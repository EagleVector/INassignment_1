{
 "cells": [
  {
   "cell_type": "markdown",
   "id": "edb7f591",
   "metadata": {},
   "source": [
    "Q1. In the below elements which of them are values or an expression? eg:- values can be\n",
    "integer or string and expressions will be mathematical operators.\n",
    "    \n",
    "'*' is an expression\n",
    "\n",
    "'hello' is a value\n",
    "\n",
    "'-87.8' is a value\n",
    "\n",
    "'-' is an expression\n",
    "\n",
    "'/' is an expression\n",
    "\n",
    "'+' is an expression\n",
    "\n",
    "6 is a value"
   ]
  },
  {
   "cell_type": "markdown",
   "id": "55170560",
   "metadata": {},
   "source": [
    "Q2. What is the difference between string and variable?\n",
    "\n",
    "Ans. String is a data type which can be any combination of numerical,characters or special characters.In python,its mandatory that A string must always be enclosed inside the upper quotes ' ' or \" \".\n",
    "\n",
    "Variables can be defined as a storage points inside RAM which contain data of any data type. A keyword can not be a variable."
   ]
  },
  {
   "cell_type": "markdown",
   "id": "4131a729",
   "metadata": {},
   "source": [
    "Q3. Describe three different data types.\n",
    "\n",
    "Ans. int : It consists of an integer data type.Only numeric integers can be stored inside this data type. Eg. 23,3,506,7789,9000\n",
    "\n",
    "float: It consists of decimal type numerical values.Eg. 23.0098 , 89.007 , 7.0\n",
    "\n",
    "string: It consist of any alphanumeric values and also special characters. Eg. 'shubham1996' , 'abc@xyzgmail.com'"
   ]
  },
  {
   "cell_type": "markdown",
   "id": "dbe74216",
   "metadata": {},
   "source": [
    "Q4. What is an expression made up of? What do all expressions do?\n",
    "\n",
    "Ans. Expressions are meant to perform all the useful mathematical operations. Eg. +,-,*,/,%,**,<,>,==,!=\n",
    "\n",
    "'+' : addition\n",
    "\n",
    "'-' : substraction\n",
    "\n",
    "'*' : multiplication\n",
    "\n",
    "'/' : divison\n",
    "\n",
    "'%' : remainder\n",
    "\n",
    "'**' : raised to the power\n",
    "\n",
    "'<' : less than\n",
    "\n",
    "'>' : greater than\n",
    "\n",
    "'==' : equal to\n",
    "\n",
    "'!=' : not equal to"
   ]
  },
  {
   "cell_type": "markdown",
   "id": "d247b1cd",
   "metadata": {},
   "source": [
    "Q5. This assignment statements, like spam = 10. What is the difference between an\n",
    "expression and a statement?\n",
    "\n",
    "Ans. spam = 10 is an assignment operator which assigns an integer value 10 to the variable spam and stores in the memory. Expressions on the other hand returns a value after evaluating it."
   ]
  },
  {
   "cell_type": "markdown",
   "id": "7d34d935",
   "metadata": {},
   "source": [
    "Q6. After running the following code, what does the variable bacon contain?\n",
    "\n",
    "bacon = 22\n",
    "bacon + 1\n",
    "\n",
    "Ans. bacon will be incremented by a value 1. It will return 23"
   ]
  },
  {
   "cell_type": "markdown",
   "id": "72ec4f7a",
   "metadata": {},
   "source": [
    "Q7. What should the values of the following two terms be?\n",
    "\n",
    "'spam' + 'spamspam' will return 'spamspamspam' [Its a concatenation operation]\n",
    "\n",
    "'spam' * 3 will return 'spamspamspam' \n",
    "\n",
    "Ans. Both will return the same output"
   ]
  },
  {
   "cell_type": "markdown",
   "id": "503f2382",
   "metadata": {},
   "source": [
    "Q8. Why is eggs a valid variable name while 100 is invalid?\n",
    "\n",
    "Ans. An integer cannot be a variable while eggs can be a valid variable name as it is not a keyword."
   ]
  },
  {
   "cell_type": "markdown",
   "id": "b4265d66",
   "metadata": {},
   "source": [
    "Q9. What three functions can be used to get the integer, floating-point number, or string\n",
    "version of a value?\n",
    "\n",
    "Ans. We can perform typecasting operation to perform the conversion of data type."
   ]
  },
  {
   "cell_type": "code",
   "execution_count": 18,
   "id": "33b30441",
   "metadata": {},
   "outputs": [
    {
     "data": {
      "text/plain": [
       "65"
      ]
     },
     "execution_count": 18,
     "metadata": {},
     "output_type": "execute_result"
    }
   ],
   "source": [
    "int(65.67)"
   ]
  },
  {
   "cell_type": "code",
   "execution_count": 13,
   "id": "969865ca",
   "metadata": {},
   "outputs": [
    {
     "data": {
      "text/plain": [
       "76.0"
      ]
     },
     "execution_count": 13,
     "metadata": {},
     "output_type": "execute_result"
    }
   ],
   "source": [
    "float(76)"
   ]
  },
  {
   "cell_type": "code",
   "execution_count": 14,
   "id": "d045d999",
   "metadata": {},
   "outputs": [
    {
     "data": {
      "text/plain": [
       "'78'"
      ]
     },
     "execution_count": 14,
     "metadata": {},
     "output_type": "execute_result"
    }
   ],
   "source": [
    "str(78)"
   ]
  },
  {
   "cell_type": "code",
   "execution_count": 16,
   "id": "0bb8a146",
   "metadata": {},
   "outputs": [
    {
     "data": {
      "text/plain": [
       "'imran@56'"
      ]
     },
     "execution_count": 16,
     "metadata": {},
     "output_type": "execute_result"
    }
   ],
   "source": [
    "str('imran@56')"
   ]
  },
  {
   "cell_type": "markdown",
   "id": "21088b60",
   "metadata": {},
   "source": [
    "Q10. Why does this expression cause an error? How can you fix it?\n",
    "\n",
    "'I have eaten' + 99 + 'burritos'\n",
    "\n",
    "Ans. Concatenation can only be performed on string data type."
   ]
  },
  {
   "cell_type": "code",
   "execution_count": 21,
   "id": "f91adb5a",
   "metadata": {},
   "outputs": [
    {
     "data": {
      "text/plain": [
       "'I have eaten 99 burritos'"
      ]
     },
     "execution_count": 21,
     "metadata": {},
     "output_type": "execute_result"
    }
   ],
   "source": [
    "'I have eaten' + ' 99 ' + 'burritos'"
   ]
  }
 ],
 "metadata": {
  "kernelspec": {
   "display_name": "Python 3 (ipykernel)",
   "language": "python",
   "name": "python3"
  },
  "language_info": {
   "codemirror_mode": {
    "name": "ipython",
    "version": 3
   },
   "file_extension": ".py",
   "mimetype": "text/x-python",
   "name": "python",
   "nbconvert_exporter": "python",
   "pygments_lexer": "ipython3",
   "version": "3.9.7"
  }
 },
 "nbformat": 4,
 "nbformat_minor": 5
}
